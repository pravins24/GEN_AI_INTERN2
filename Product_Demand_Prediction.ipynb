{
  "nbformat": 4,
  "nbformat_minor": 0,
  "metadata": {
    "colab": {
      "provenance": [],
      "gpuType": "T4"
    },
    "kernelspec": {
      "name": "python3",
      "display_name": "Python 3"
    },
    "language_info": {
      "name": "python"
    },
    "accelerator": "GPU"
  },
  "cells": [
    {
      "cell_type": "code",
      "execution_count": 15,
      "metadata": {
        "id": "bYer1bZtD-31"
      },
      "outputs": [],
      "source": [
        "# Importing necessary libraries\n",
        "import pandas as pd\n",
        "import numpy as np\n",
        "from sklearn.preprocessing import StandardScaler, LabelEncoder\n",
        "from sklearn.model_selection import train_test_split, GridSearchCV\n",
        "from sklearn.ensemble import RandomForestRegressor\n",
        "from sklearn.metrics import mean_absolute_error, mean_squared_error, r2_score\n",
        "\n",
        "# Load the dataset\n",
        "df = pd.read_csv('product_demand_prediction_dataset.csv')\n"
      ]
    },
    {
      "cell_type": "code",
      "source": [
        "# Convert the 'Date' column to datetime format\n",
        "df['Date'] = pd.to_datetime(df['Date'])\n",
        "\n",
        "# Extract useful features from the 'Date' column\n",
        "df['Year'] = df['Date'].dt.year\n",
        "df['Month'] = df['Date'].dt.month\n",
        "df['Day'] = df['Date'].dt.day\n",
        "df['DayOfWeek'] = df['Date'].dt.dayofweek\n",
        "df['IsWeekend'] = df['DayOfWeek'].apply(lambda x: 1 if x >= 5 else 0)  # 5, 6 are Saturday, Sunday\n",
        "\n",
        "# Drop the original 'Date' column\n",
        "df = df.drop('Date', axis=1)\n"
      ],
      "metadata": {
        "id": "u_VoecVMEalD"
      },
      "execution_count": 4,
      "outputs": []
    },
    {
      "cell_type": "code",
      "source": [
        "# Fill missing values\n",
        "numeric_columns = df.select_dtypes(include=[np.number]).columns\n",
        "df[numeric_columns] = df[numeric_columns].fillna(df[numeric_columns].mean())\n",
        "\n",
        "for column in df.select_dtypes(include=['object']).columns:\n",
        "    df[column] = df[column].fillna(df[column].mode()[0])"
      ],
      "metadata": {
        "id": "fVNllAUqFM1P"
      },
      "execution_count": 5,
      "outputs": []
    },
    {
      "cell_type": "code",
      "source": [
        "# Create new features\n",
        "df['PriceChange'] = df['CompetitorPrice'] - df['Price']\n",
        "df['SalesMovingAvg'] = df['Sales'].rolling(window=3, min_periods=1).mean()"
      ],
      "metadata": {
        "id": "vyUGQN37FQh4"
      },
      "execution_count": 6,
      "outputs": []
    },
    {
      "cell_type": "code",
      "source": [
        "# Standardize continuous variables\n",
        "scaler = StandardScaler()\n",
        "continuous_cols = ['Sales', 'Price', 'CompetitorPrice', 'EconomicIndicator', 'StockLevel', 'Demand', 'PriceChange', 'SalesMovingAvg']\n",
        "df[continuous_cols] = scaler.fit_transform(df[continuous_cols])\n"
      ],
      "metadata": {
        "id": "4-6Bq5kKFT7e"
      },
      "execution_count": 7,
      "outputs": []
    },
    {
      "cell_type": "code",
      "source": [
        "# Save the scaler for the Demand column\n",
        "demand_scaler = StandardScaler()\n",
        "df['Demand'] = demand_scaler.fit_transform(df[['Demand']])"
      ],
      "metadata": {
        "id": "9HGLOXPQFT-a"
      },
      "execution_count": 8,
      "outputs": []
    },
    {
      "cell_type": "code",
      "source": [
        "# Encode categorical variables\n",
        "label_enc_cols = ['ProductID', 'StoreID']\n",
        "le = LabelEncoder()\n",
        "\n",
        "for col in label_enc_cols:\n",
        "    df[col] = le.fit_transform(df[col])\n",
        "\n",
        "# One-hot encoding for other categorical variables\n",
        "categorical_cols = ['Promotion', 'Season', 'Holiday', 'Weather']\n",
        "df = pd.get_dummies(df, columns=categorical_cols, drop_first=True)\n"
      ],
      "metadata": {
        "id": "Lu_B2tBNFUDF"
      },
      "execution_count": 9,
      "outputs": []
    },
    {
      "cell_type": "code",
      "source": [
        "# Split data into features (X) and target (y)\n",
        "X = df.drop('Demand', axis=1)  # Features\n",
        "y = df['Demand']  # Target\n",
        "\n",
        "# Split the dataset into training and testing sets\n",
        "X_train, X_test, y_train, y_test = train_test_split(X, y, test_size=0.2, random_state=42)\n"
      ],
      "metadata": {
        "id": "bbvOV5NhFUKR"
      },
      "execution_count": 10,
      "outputs": []
    },
    {
      "cell_type": "code",
      "source": [
        "rf_model = RandomForestRegressor()\n",
        "\n",
        "# Define the parameter grid for hyperparameter tuning\n",
        "param_grid = {\n",
        "    'n_estimators': [50, 100, 200],\n",
        "    'max_depth': [None, 10, 20, 30],\n",
        "    'min_samples_split': [2, 5, 10],\n",
        "    'min_samples_leaf': [1, 2, 4],\n",
        "    'max_features': ['auto', 'sqrt'],\n",
        "}\n",
        "\n",
        "# Initialize GridSearchCV\n",
        "grid_search = GridSearchCV(estimator=rf_model, param_grid=param_grid,\n",
        "                           cv=3, n_jobs=-1, verbose=1, scoring='neg_mean_squared_error')\n",
        "\n",
        "# Fit the model with hyperparameter tuning\n",
        "grid_search.fit(X_train, y_train)\n",
        "\n",
        "# Get the best estimator\n",
        "best_rf_model = grid_search.best_estimator_\n",
        "\n",
        "# Predict on the test set\n",
        "y_pred_scaled = best_rf_model.predict(X_test)\n",
        "\n",
        "# Inverse transform the predicted demand to original format\n",
        "y_pred_original = demand_scaler.inverse_transform(y_pred_scaled.reshape(-1, 1))\n",
        "y_test_original = demand_scaler.inverse_transform(y_test.values.reshape(-1, 1))"
      ],
      "metadata": {
        "colab": {
          "base_uri": "https://localhost:8080/"
        },
        "id": "KyBFKovgFUQY",
        "outputId": "b035a245-a752-455c-9f9f-3e125cb7774a"
      },
      "execution_count": 18,
      "outputs": [
        {
          "output_type": "stream",
          "name": "stdout",
          "text": [
            "Fitting 3 folds for each of 216 candidates, totalling 648 fits\n"
          ]
        },
        {
          "output_type": "stream",
          "name": "stderr",
          "text": [
            "/usr/local/lib/python3.10/dist-packages/sklearn/model_selection/_validation.py:540: FitFailedWarning: \n",
            "324 fits failed out of a total of 648.\n",
            "The score on these train-test partitions for these parameters will be set to nan.\n",
            "If these failures are not expected, you can try to debug them by setting error_score='raise'.\n",
            "\n",
            "Below are more details about the failures:\n",
            "--------------------------------------------------------------------------------\n",
            "324 fits failed with the following error:\n",
            "Traceback (most recent call last):\n",
            "  File \"/usr/local/lib/python3.10/dist-packages/sklearn/model_selection/_validation.py\", line 888, in _fit_and_score\n",
            "    estimator.fit(X_train, y_train, **fit_params)\n",
            "  File \"/usr/local/lib/python3.10/dist-packages/sklearn/base.py\", line 1466, in wrapper\n",
            "    estimator._validate_params()\n",
            "  File \"/usr/local/lib/python3.10/dist-packages/sklearn/base.py\", line 666, in _validate_params\n",
            "    validate_parameter_constraints(\n",
            "  File \"/usr/local/lib/python3.10/dist-packages/sklearn/utils/_param_validation.py\", line 95, in validate_parameter_constraints\n",
            "    raise InvalidParameterError(\n",
            "sklearn.utils._param_validation.InvalidParameterError: The 'max_features' parameter of RandomForestRegressor must be an int in the range [1, inf), a float in the range (0.0, 1.0], a str among {'log2', 'sqrt'} or None. Got 'auto' instead.\n",
            "\n",
            "  warnings.warn(some_fits_failed_message, FitFailedWarning)\n",
            "/usr/local/lib/python3.10/dist-packages/numpy/ma/core.py:2820: RuntimeWarning: invalid value encountered in cast\n",
            "  _data = np.array(data, dtype=dtype, copy=copy,\n",
            "/usr/local/lib/python3.10/dist-packages/sklearn/model_selection/_search.py:1103: UserWarning: One or more of the test scores are non-finite: [        nan         nan         nan         nan         nan         nan\n",
            "         nan         nan         nan         nan         nan         nan\n",
            "         nan         nan         nan         nan         nan         nan\n",
            "         nan         nan         nan         nan         nan         nan\n",
            "         nan         nan         nan -1.03638343 -1.0315639  -1.02733498\n",
            " -1.0399697  -1.03143658 -1.02520714 -1.02865414 -1.02801069 -1.02481929\n",
            " -1.03328194 -1.03123452 -1.02551452 -1.03073744 -1.02528515 -1.02557766\n",
            " -1.0400634  -1.02869398 -1.02226843 -1.0346117  -1.02340249 -1.02025549\n",
            " -1.02893256 -1.02325043 -1.02254444 -1.02929135 -1.02484753 -1.02111251\n",
            "         nan         nan         nan         nan         nan         nan\n",
            "         nan         nan         nan         nan         nan         nan\n",
            "         nan         nan         nan         nan         nan         nan\n",
            "         nan         nan         nan         nan         nan         nan\n",
            "         nan         nan         nan -1.01994986 -1.02019364 -1.01375727\n",
            " -1.01802124 -1.01621263 -1.01525664 -1.01327572 -1.01546071 -1.01196204\n",
            " -1.02060792 -1.019321   -1.01382665 -1.0206298  -1.01659031 -1.01310585\n",
            " -1.01422379 -1.01392817 -1.01333252 -1.02057358 -1.01438435 -1.0144743\n",
            " -1.01768395 -1.01580572 -1.01278436 -1.01796476 -1.01833913 -1.01435272\n",
            "         nan         nan         nan         nan         nan         nan\n",
            "         nan         nan         nan         nan         nan         nan\n",
            "         nan         nan         nan         nan         nan         nan\n",
            "         nan         nan         nan         nan         nan         nan\n",
            "         nan         nan         nan -1.0427965  -1.02710564 -1.02418349\n",
            " -1.03091896 -1.02765012 -1.0224408  -1.03046502 -1.02801655 -1.01999035\n",
            " -1.03883719 -1.02782748 -1.02353667 -1.03323658 -1.02707644 -1.02030217\n",
            " -1.03309214 -1.02503823 -1.01909565 -1.03182192 -1.02500287 -1.02144004\n",
            " -1.03305931 -1.02294487 -1.02174486 -1.02325428 -1.02496389 -1.0178635\n",
            "         nan         nan         nan         nan         nan         nan\n",
            "         nan         nan         nan         nan         nan         nan\n",
            "         nan         nan         nan         nan         nan         nan\n",
            "         nan         nan         nan         nan         nan         nan\n",
            "         nan         nan         nan -1.03656119 -1.03056859 -1.02465231\n",
            " -1.04229564 -1.02869846 -1.0219237  -1.03494495 -1.02569638 -1.02728762\n",
            " -1.03235817 -1.02730052 -1.02256797 -1.03130213 -1.02686013 -1.02322665\n",
            " -1.03616503 -1.02484443 -1.02247047 -1.02802635 -1.02562208 -1.02226745\n",
            " -1.02577187 -1.01989659 -1.02069178 -1.02642626 -1.02064405 -1.01753133]\n",
            "  warnings.warn(\n"
          ]
        }
      ]
    },
    {
      "cell_type": "code",
      "source": [
        "# Evaluate the model\n",
        "print('Random Forest:')\n",
        "print(f'MAE: {mean_absolute_error(y_test_original, y_pred_original)}')\n",
        "print(f'MSE: {mean_squared_error(y_test_original, y_pred_original)}')\n",
        "print(f'R-squared: {r2_score(y_test_original, y_pred_original)}\\n')\n",
        "\n",
        "# Create a DataFrame to compare actual and predicted demand\n",
        "comparison_df = pd.DataFrame({\n",
        "    'Actual Demand': y_test_original.flatten(),\n",
        "    'Predicted Demand': y_pred_original.flatten()\n",
        "})\n",
        "\n",
        "# Display comparison for the first few rows\n",
        "print(comparison_df.head())"
      ],
      "metadata": {
        "colab": {
          "base_uri": "https://localhost:8080/"
        },
        "id": "sJGVpsyLFUXo",
        "outputId": "64fb47cc-ac58-4532-99b2-7e04a4fd0536"
      },
      "execution_count": 17,
      "outputs": [
        {
          "output_type": "stream",
          "name": "stdout",
          "text": [
            "Random Forest:\n",
            "MAE: 0.8554157794424238\n",
            "MSE: 0.987268979337604\n",
            "R-squared: -0.0077740230118388265\n",
            "\n",
            "   Actual Demand  Predicted Demand\n",
            "0       0.554564          0.063318\n",
            "1       0.554564          0.103088\n",
            "2       1.155903         -0.120759\n",
            "3      -0.313277          0.074691\n",
            "4       0.985068          0.158434\n"
          ]
        }
      ]
    },
    {
      "cell_type": "code",
      "source": [],
      "metadata": {
        "id": "2tvPOguwFuva"
      },
      "execution_count": null,
      "outputs": []
    }
  ]
}